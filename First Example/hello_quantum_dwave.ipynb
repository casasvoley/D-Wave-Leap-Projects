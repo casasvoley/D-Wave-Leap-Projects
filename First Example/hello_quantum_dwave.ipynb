{
 "cells": [
  {
   "cell_type": "markdown",
   "id": "b7c6a88a",
   "metadata": {},
   "source": [
    "<a id=\"top\"></a>\n",
    "#### QCT. Practices with Adiabatic Quantum Computing\n",
    "\n",
    "# SDKs for Adiabatic Quantum Computing\n",
    "\n",
    "#### Lecturers:\n",
    "- Rafael Martín-Cuevas Redondo, rafamartinc@pm.me\n",
    "\n",
    "***\n",
    "\n",
    "In this notebook, we will set up our access to D-Wave's cloud-based quantum computing platform: Leap. Please note that you need to go through the registration process at https://cloud.dwavesys.com/leap/login first.\n",
    "\n",
    "### Table of Contents\n",
    "\n",
    "1. [Account configuration](#account_configuration)\n",
    "2. [Hello Quantum](#hello_quantum)\n",
    "\n",
    "***\n",
    "\n",
    "Please run the following block to import the libraries that will be required during the execution of this notebook. If your system lacks any of the libraries mentioned, use ```pip install -r requirements.txt``` in a command line, within this notebook's folder, to ensure that all required libraries are installed."
   ]
  },
  {
   "cell_type": "code",
   "execution_count": 2,
   "id": "3e53e5cc",
   "metadata": {},
   "outputs": [],
   "source": [
    "import os\n",
    "\n",
    "import dwave.system"
   ]
  },
  {
   "cell_type": "markdown",
   "id": "b0cef0ee",
   "metadata": {},
   "source": [
    "[Back to the top](#top)\n",
    "\n",
    "***\n",
    "<a id=\"account_configuration\"></a>\n",
    "\n",
    "## 1. Account configuration\n",
    "\n",
    "In this section, we will log into our account at https://cloud.dwavesys.com/leap/ to retrieve our API Token and save it in a file named 'dwave_token.txt', located on the parent directory that contains the folder where this Jupyter notebook is located. We will then be able to retrieve the backends that are available to us."
   ]
  },
  {
   "cell_type": "code",
   "execution_count": 3,
   "id": "d47b36f1",
   "metadata": {},
   "outputs": [],
   "source": [
    "with open(os.path.join('..', 'dwave_token.txt'), 'r') as file:\n",
    "    os.environ['DWAVE_API_TOKEN'] = file.read()"
   ]
  },
  {
   "cell_type": "markdown",
   "id": "6d50a522",
   "metadata": {},
   "source": [
    "[Back to the top](#top)\n",
    "\n",
    "***\n",
    "<a id=\"hello_quantum\"></a>\n",
    "\n",
    "## 2. Hello Quantum\n",
    "\n",
    "We will try to run the following example on the cloud environment, to make sure that our access is working properly."
   ]
  },
  {
   "cell_type": "code",
   "execution_count": 4,
   "id": "0426b571",
   "metadata": {},
   "outputs": [
    {
     "name": "stdout",
     "output_type": "stream",
     "text": [
      "    Sample(sample={'x': 0}, energy=0.0, num_occurrences=100, chain_break_fraction=0.0)\n"
     ]
    }
   ],
   "source": [
    "sampler = dwave.system.EmbeddingComposite(\n",
    "    dwave.system.DWaveSampler()\n",
    ")\n",
    "\n",
    "response = sampler.sample_qubo(\n",
    "    Q={('x', 'x'): 1},\n",
    "    label='Hello Quantum',\n",
    "    num_reads=100\n",
    ")\n",
    "\n",
    "aggregated_response = response.aggregate()\n",
    "for item in aggregated_response.data():\n",
    "    print('   ', item)"
   ]
  }
 ],
 "metadata": {
  "kernelspec": {
   "display_name": "Python 3 (ipykernel)",
   "language": "python",
   "name": "python3"
  },
  "language_info": {
   "codemirror_mode": {
    "name": "ipython",
    "version": 3
   },
   "file_extension": ".py",
   "mimetype": "text/x-python",
   "name": "python",
   "nbconvert_exporter": "python",
   "pygments_lexer": "ipython3",
   "version": "3.12.3"
  }
 },
 "nbformat": 4,
 "nbformat_minor": 5
}
