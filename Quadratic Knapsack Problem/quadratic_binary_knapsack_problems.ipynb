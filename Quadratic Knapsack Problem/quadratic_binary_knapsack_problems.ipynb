{
 "cells": [
  {
   "cell_type": "markdown",
   "id": "da529883",
   "metadata": {},
   "source": [
    "<a id=\"top\"></a>\n",
    "#### QCT. Practices with Adiabatic Quantum Computing\n",
    "\n",
    "# Quadratic Knapsack Problems\n",
    "\n",
    "#### Lecturers:\n",
    "- Rafael Martín-Cuevas Redondo, rafamartinc@pm.me\n",
    "\n",
    "***\n",
    "\n",
    "In this notebook, we will explore how to implement a sample Quadratic Knapsack Problem, and find its solution using the solvers provided by D-Wave Systems.\n",
    "\n",
    "### Table of Contents\n",
    "\n",
    "1. [Shaping the QUBO Model](#qubo_model)\n",
    "2. [Finding the solution with D-Wave's solvers](#solution_dwave)\n",
    "\n",
    "***\n",
    "\n",
    "Please run the following block to import the libraries that will be required during the execution of this notebook. If your system lacks any of the libraries mentioned, use ```pip install -r requirements.txt``` in a command line, within this notebook's folder, to ensure that all required libraries are installed."
   ]
  },
  {
   "cell_type": "code",
   "execution_count": 1,
   "id": "921790b3",
   "metadata": {},
   "outputs": [],
   "source": [
    "from pyqubo import Array, Placeholder, Constraint\n",
    "\n",
    "import neal"
   ]
  },
  {
   "cell_type": "markdown",
   "id": "7078a40a",
   "metadata": {},
   "source": [
    "[Back to the top](#top)\n",
    "\n",
    "***\n",
    "<a id=\"qubo_model\"></a>\n",
    "\n",
    "## 1. Shaping the QUBO Model\n",
    "\n",
    "We will start by modeling the Hamiltonian described during the lecture. During this notebook, we will use the library PyQUBO to define our QUBO model."
   ]
  },
  {
   "cell_type": "code",
   "execution_count": 2,
   "id": "fedfb688",
   "metadata": {},
   "outputs": [],
   "source": [
    "num_variables = 4\n",
    "\n",
    "max_weight = 6\n",
    "\n",
    "profits = [\n",
    "    [3, 1, 0, -3],\n",
    "    [0, 7, 0,  4],\n",
    "    [0, 0, 2,  0],\n",
    "    [0, 0, 0, 10]\n",
    "]\n",
    "\n",
    "weights = [2, 1, 3, 4]\n",
    "\n",
    "x = Array.create('x', shape=num_variables, vartype='BINARY')"
   ]
  },
  {
   "cell_type": "code",
   "execution_count": 3,
   "id": "53ce496d",
   "metadata": {},
   "outputs": [],
   "source": [
    "# First part of the Hamiltonian.\n",
    "H_linear_profit = 0\n",
    "\n",
    "for i in range(num_variables):\n",
    "    H_linear_profit += Constraint(\n",
    "        profits[i][i] * x[i], label='profit({})'.format(i)\n",
    "    )"
   ]
  },
  {
   "cell_type": "code",
   "execution_count": 4,
   "id": "aea38566",
   "metadata": {},
   "outputs": [],
   "source": [
    "# Second part of the Hamiltonian.\n",
    "H_quadratic_profit = 0\n",
    "\n",
    "for i in range(num_variables):\n",
    "    for j in range(i + 1, num_variables):\n",
    "        H_quadratic_profit += Constraint(\n",
    "            profits[i][j] * x[i] * x[j], label='profit({}, {})'.format(i, j)\n",
    "        )"
   ]
  },
  {
   "cell_type": "code",
   "execution_count": 5,
   "id": "d4745747",
   "metadata": {},
   "outputs": [],
   "source": [
    "# Third part of the Hamiltonian.\n",
    "H_linear_weight = 0\n",
    "\n",
    "for i in range(num_variables):\n",
    "    H_linear_weight += Constraint(weights[i] * x[i], label='weight({})'.format(i))"
   ]
  },
  {
   "cell_type": "code",
   "execution_count": 6,
   "id": "195b2a77",
   "metadata": {},
   "outputs": [
    {
     "name": "stdout",
     "output_type": "stream",
     "text": [
      "((Placeholder('alpha') * ((6.000000 + (-1.000000 * (Constraint((4.000000 * Binary('x[3]')), 'weight(3)') + Constraint((3.000000 * Binary('x[2]')), 'weight(2)') + Constraint((1.000000 * Binary('x[1]')), 'weight(1)') + 0.000000 + Constraint((2.000000 * Binary('x[0]')), 'weight(0)')))) * (6.000000 + (-1.000000 * (Constraint((4.000000 * Binary('x[3]')), 'weight(3)') + Constraint((3.000000 * Binary('x[2]')), 'weight(2)') + Constraint((1.000000 * Binary('x[1]')), 'weight(1)') + 0.000000 + Constraint((2.000000 * Binary('x[0]')), 'weight(0)')))))) + (-1.000000 * (Constraint((10.000000 * Binary('x[3]')), 'profit(3)') + Constraint((2.000000 * Binary('x[2]')), 'profit(2)') + Constraint((7.000000 * Binary('x[1]')), 'profit(1)') + 0.000000 + Constraint((3.000000 * Binary('x[0]')), 'profit(0)'))) + (-1.000000 * (Constraint(((0.000000 * Binary('x[2]')) * Binary('x[3]')), 'profit(2, 3)') + Constraint(((4.000000 * Binary('x[1]')) * Binary('x[3]')), 'profit(1, 3)') + Constraint(((0.000000 * Binary('x[1]')) * Binary('x[2]')), 'profit(1, 2)') + Constraint(((-3.000000 * Binary('x[0]')) * Binary('x[3]')), 'profit(0, 3)') + Constraint(((0.000000 * Binary('x[0]')) * Binary('x[2]')), 'profit(0, 2)') + 0.000000 + Constraint(((1.000000 * Binary('x[0]')) * Binary('x[1]')), 'profit(0, 1)'))))\n"
     ]
    }
   ],
   "source": [
    "# Define full Hamiltonian.\n",
    "alpha = Placeholder('alpha')\n",
    "H = - H_linear_profit - H_quadratic_profit + alpha * (max_weight - H_linear_weight)**2\n",
    "\n",
    "print(H)"
   ]
  },
  {
   "cell_type": "code",
   "execution_count": 7,
   "id": "c9051d69",
   "metadata": {},
   "outputs": [
    {
     "name": "stdout",
     "output_type": "stream",
     "text": [
      "{('x[2]', 'x[0]'): 1200.0, ('x[3]', 'x[0]'): 1603.0, ('x[1]', 'x[1]'): -1107.0, ('x[3]', 'x[1]'): 796.0, ('x[3]', 'x[3]'): -3210.0, ('x[1]', 'x[0]'): 399.0, ('x[2]', 'x[1]'): 600.0, ('x[3]', 'x[2]'): 2400.0, ('x[0]', 'x[0]'): -2003.0, ('x[2]', 'x[2]'): -2702.0}\n"
     ]
    }
   ],
   "source": [
    "# Compile model\n",
    "model = H.compile()\n",
    "\n",
    "# Create QUBO with alpha = 100.0\n",
    "feed_dict = {'alpha': 100.0}\n",
    "qubo, offset = model.to_qubo(feed_dict=feed_dict)\n",
    "\n",
    "print(qubo)"
   ]
  },
  {
   "cell_type": "markdown",
   "id": "4fc3721a",
   "metadata": {},
   "source": [
    "We have now expressed our QUBO model as a data structure that can be recognized by our solvers.\n",
    "\n",
    "[Back to the top](#top)\n",
    "\n",
    "***\n",
    "<a id=\"solution_dwave\"></a>\n",
    "\n",
    "## 2. Finding the solution with D-Wave's solvers\n",
    "\n",
    "Finally, we can use the solvers provided by D-Wave to find the solution to this problem, as follows."
   ]
  },
  {
   "cell_type": "code",
   "execution_count": 8,
   "id": "4b343988",
   "metadata": {},
   "outputs": [
    {
     "name": "stdout",
     "output_type": "stream",
     "text": [
      "Solution ['x[0]', 'x[1]', 'x[2]']: 1898/5000 occurrences\n",
      "Solution ['x[0]', 'x[3]']: 2235/5000 occurrences\n",
      "Solution ['x[0]', 'x[1]', 'x[3]']: 217/5000 occurrences\n",
      "Solution ['x[1]', 'x[3]']: 197/5000 occurrences\n",
      "Solution ['x[2]', 'x[3]']: 353/5000 occurrences\n",
      "Solution ['x[0]', 'x[2]']: 100/5000 occurrences\n"
     ]
    }
   ],
   "source": [
    "sampler = neal.SimulatedAnnealingSampler()\n",
    "num_reads = 5000\n",
    "\n",
    "response = sampler.sample_qubo(qubo, num_reads=num_reads)\n",
    "response = response.aggregate()\n",
    "\n",
    "for values, _, num_occurrences in response.data():\n",
    "    variables = [key for key in values if values[key] != 0]\n",
    "    print('Solution {}: {}/{} occurrences'.format(\n",
    "        variables, num_occurrences, num_reads\n",
    "    ))"
   ]
  },
  {
   "cell_type": "code",
   "execution_count": 9,
   "id": "b858d52a",
   "metadata": {},
   "outputs": [
    {
     "name": "stdout",
     "output_type": "stream",
     "text": [
      "Best solution (44.7%): ['x[0]', 'x[3]']\n"
     ]
    }
   ],
   "source": [
    "# Get best solution.\n",
    "\n",
    "best_solution = None\n",
    "best_solution_occurrences = -1\n",
    "\n",
    "for values, _, num_occurrences in response.data():\n",
    "    if num_occurrences > best_solution_occurrences:\n",
    "        best_solution = values\n",
    "        best_solution_occurrences = num_occurrences\n",
    "\n",
    "best_solution_variables = [\n",
    "    key for key in best_solution\n",
    "    if best_solution[key] != 0 and key[:2] == 'x['\n",
    "]\n",
    "\n",
    "print('Best solution ({:0.1f}%): {}'.format(\n",
    "    100 * best_solution_occurrences / num_reads,\n",
    "    best_solution_variables\n",
    "))"
   ]
  },
  {
   "cell_type": "code",
   "execution_count": 10,
   "id": "0e606272",
   "metadata": {},
   "outputs": [
    {
     "name": "stdout",
     "output_type": "stream",
     "text": [
      "\n",
      "Total investment: 6 <= 6 - OK!\n",
      "   x[0]: 2\n",
      "   x[3]: 4\n",
      "\n",
      "   Cash: 0\n"
     ]
    }
   ],
   "source": [
    "# Check weight constraint.\n",
    "\n",
    "best_solution_weights = [\n",
    "    weights[int(key[2:-1])] for key in best_solution_variables\n",
    "]\n",
    "total_weight = sum(best_solution_weights)\n",
    "\n",
    "print('\\nTotal investment: {} <= {} - {}'.format(\n",
    "    total_weight,\n",
    "    max_weight,\n",
    "    'OK!' if total_weight <= max_weight else 'ERROR'\n",
    "))\n",
    "for key in best_solution_variables:\n",
    "    asset_id = int(key[2:-1])\n",
    "    print('   {}: {}'.format(key, weights[asset_id]))\n",
    "\n",
    "print('\\n   Cash: {}'.format(max_weight - total_weight))"
   ]
  },
  {
   "cell_type": "markdown",
   "id": "04ee933c",
   "metadata": {},
   "source": [
    "[Back to the top](#top)"
   ]
  }
 ],
 "metadata": {
  "kernelspec": {
   "display_name": "Python 3 (ipykernel)",
   "language": "python",
   "name": "python3"
  },
  "language_info": {
   "codemirror_mode": {
    "name": "ipython",
    "version": 3
   },
   "file_extension": ".py",
   "mimetype": "text/x-python",
   "name": "python",
   "nbconvert_exporter": "python",
   "pygments_lexer": "ipython3",
   "version": "3.9.19"
  }
 },
 "nbformat": 4,
 "nbformat_minor": 5
}
