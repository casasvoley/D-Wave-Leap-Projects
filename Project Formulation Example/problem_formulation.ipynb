{
 "cells": [
  {
   "cell_type": "markdown",
   "metadata": {},
   "source": [
    "<a id=\"top\"></a>\n",
    "#### QCT. Practices with Adiabatic Quantum Computing\n",
    "\n",
    "# Problem Formulation\n",
    "\n",
    "#### Lecturers:\n",
    "- Rafael Martín-Cuevas Redondo, rafamartinc@pm.me\n",
    "\n",
    "***\n",
    "\n",
    "In this notebook, we will model some simple problems using D-Wave's Ocean SDK, as a first contact with their environment and tools, as well as with QUBO and Ising models.\n",
    "\n",
    "### Table of Contents\n",
    "\n",
    "1. [QUBO Models](#qubo)\n",
    "2. [Ising Models](#ising)\n",
    "3. [Ising to QUBO](#ising_to_qubo)\n",
    "4. [QUBO to Ising](#qubo_to_ising)\n",
    "5. [Benchmarking different solvers from D-Wave Systems](#dwave_solvers)\n",
    "\n",
    "***\n",
    "\n",
    "Please run the following block to import the libraries that will be required during the execution of this notebook. If your system lacks any of the libraries mentioned, use ```pip install -r requirements.txt``` in a command line, within this notebook's folder, to ensure that all required libraries are installed."
   ]
  },
  {
   "cell_type": "code",
   "execution_count": 1,
   "metadata": {},
   "outputs": [],
   "source": [
    "import time\n",
    "import numpy\n",
    "from pyqubo import Spin, Binary\n",
    "import qubogen\n",
    "\n",
    "import dimod\n",
    "import neal"
   ]
  },
  {
   "cell_type": "markdown",
   "metadata": {},
   "source": [
    "[Back to the top](#top)\n",
    "\n",
    "***\n",
    "<a id=\"qubo\"></a>\n",
    "\n",
    "## 1. QUBO Models.\n",
    "### First example: 4 warehouses, 3 couriers"
   ]
  },
  {
   "cell_type": "code",
   "execution_count": 2,
   "metadata": {},
   "outputs": [
    {
     "name": "stdout",
     "output_type": "stream",
     "text": [
      "Solution ['x1', 'x3']: 4937/5000 occurrences\n",
      "Solution ['x2', 'x3']: 30/5000 occurrences\n",
      "Solution ['x1', 'x2', 'x3']: 32/5000 occurrences\n",
      "Solution ['x3']: 1/5000 occurrences\n"
     ]
    }
   ],
   "source": [
    "qubo = {\n",
    "    ('x1', 'x1'): -2,\n",
    "    ('x2', 'x2'): -1,\n",
    "    ('x3', 'x3'): -4,\n",
    "    ('x1', 'x2'): 2\n",
    "}\n",
    "num_reads = 5000\n",
    "\n",
    "sampler = neal.SimulatedAnnealingSampler()\n",
    "response = sampler.sample_qubo(qubo, num_reads=num_reads)\n",
    "response = response.aggregate()\n",
    "\n",
    "for values, _, num_occurrences in response.data():\n",
    "    variables = [key for key in values if values[key] != 0]\n",
    "    print('Solution {}: {}/{} occurrences'.format(variables, num_occurrences, num_reads))"
   ]
  },
  {
   "cell_type": "markdown",
   "metadata": {},
   "source": [
    "[Back to the top](#top)\n",
    "\n",
    "***\n",
    "<a id=\"ising\"></a>\n",
    "\n",
    "## 2. Ising Models.\n",
    "### Second example: 6 warehouses, 4 couriers"
   ]
  },
  {
   "cell_type": "code",
   "execution_count": 3,
   "metadata": {},
   "outputs": [
    {
     "name": "stdout",
     "output_type": "stream",
     "text": [
      "Solution ['s3', 's4']: 1664/5000 occurrences\n",
      "Solution ['s2', 's3', 's4']: 1663/5000 occurrences\n",
      "Solution ['s1', 's3']: 1665/5000 occurrences\n",
      "Solution ['s1', 's3', 's4']: 4/5000 occurrences\n",
      "Solution ['s2', 's3']: 4/5000 occurrences\n"
     ]
    }
   ],
   "source": [
    "h = {\n",
    "    's1': 1,\n",
    "    's2': 1,\n",
    "    's3': -2,\n",
    "    's4': 0\n",
    "}\n",
    "J = {\n",
    "    ('s1', 's2'): 2,\n",
    "    ('s1', 's4'): 2,\n",
    "    ('s2', 's4'): 1\n",
    "}\n",
    "num_reads = 5000\n",
    "\n",
    "sampler = neal.SimulatedAnnealingSampler()\n",
    "response = sampler.sample_ising(h, J, num_reads=num_reads)\n",
    "response = response.aggregate()\n",
    "\n",
    "for values, _, num_occurrences in response.data():\n",
    "    variables = [key for key in values if values[key] != -1]\n",
    "    print('Solution {}: {}/{} occurrences'.format(variables, num_occurrences, num_reads))"
   ]
  },
  {
   "cell_type": "markdown",
   "metadata": {},
   "source": [
    "[Back to the top](#top)\n",
    "\n",
    "***\n",
    "<a id=\"ising_to_qubo\"></a>\n",
    "\n",
    "## 3. Ising to QUBO\n",
    "\n",
    "In this section, we will try to convert the Ising model from the second example into a QUBO model, using the open-source library [PyQUBO](https://github.com/recruit-communications/pyqubo), to check the solution found in the slides with the traditional method."
   ]
  },
  {
   "cell_type": "code",
   "execution_count": 4,
   "metadata": {},
   "outputs": [
    {
     "name": "stdout",
     "output_type": "stream",
     "text": [
      "{('s1', 's1'): -6.0, ('s2', 's2'): -4.0, ('s2', 's1'): 8.0, ('s2', 's4'): 4.0, ('s3', 's3'): -4.0, ('s1', 's4'): 8.0, ('s4', 's4'): -6.0} 12.0\n"
     ]
    }
   ],
   "source": [
    "s1 = Spin('s1')\n",
    "s2 = Spin('s2')\n",
    "s3 = Spin('s3')\n",
    "s4 = Spin('s4')\n",
    "\n",
    "H = 2*s1*s2 + 2*s1*s4 + s2*s4 + s1 + s2 - 2*s3 + 7\n",
    "ising = H.compile()\n",
    "qubo, offset = ising.to_qubo()\n",
    "\n",
    "print(qubo, offset)"
   ]
  },
  {
   "cell_type": "markdown",
   "metadata": {},
   "source": [
    "[Back to the top](#top)\n",
    "\n",
    "***\n",
    "<a id=\"qubo_to_ising\"></a>\n",
    "\n",
    "## 4. QUBO to Ising\n",
    "\n",
    "In this section, we will try to convert the QUBO model from the first example into an Ising model, using the open-source library [PyQUBO](https://github.com/recruit-communications/pyqubo), to check the solution found in the slides with the traditional method."
   ]
  },
  {
   "cell_type": "code",
   "execution_count": 7,
   "metadata": {},
   "outputs": [
    {
     "name": "stdout",
     "output_type": "stream",
     "text": [
      "{'x1': -0.5, 'x3': -1.0} {('x1', 'x2'): 0.5} 2.0\n"
     ]
    }
   ],
   "source": [
    "x1 = Binary('x1')\n",
    "x2 = Binary('x2')\n",
    "x3 = Binary('x3')\n",
    "\n",
    "H = 2*x1*x2 - 2*x1 - x2 - 2*x3 + 4\n",
    "qubo = H.compile()\n",
    "h, J, offset = qubo.to_ising()\n",
    "\n",
    "print(h, J, offset)"
   ]
  },
  {
   "cell_type": "markdown",
   "metadata": {},
   "source": [
    "[Back to the top](#top)\n",
    "\n",
    "***\n",
    "<a id=\"dwave_solvers\"></a>\n",
    "\n",
    "## 5. Benchmarking different solvers from D-Wave Systems\n",
    "\n",
    "In this section, we will try to convert the QUBO model from the first example into an Ising model, using the open-source library [PyQUBO](https://github.com/recruit-communications/pyqubo), to check the solution found in the slides with the traditional method."
   ]
  },
  {
   "cell_type": "code",
   "execution_count": 8,
   "metadata": {},
   "outputs": [
    {
     "name": "stdout",
     "output_type": "stream",
     "text": [
      "Runtimes with different solvers:\n",
      "   1. neal.SimulatedAnnealingSampler\n",
      "   2. dimod.SimulatedAnnealingSampler\n",
      "   3. dimod.ExactSolver\n",
      "1 variable(s): 0.009283065795898438 0.023881912231445312 0.0009999275207519531\n",
      "2 variable(s): 0.0 0.042784929275512695 0.0\n",
      "3 variable(s): 0.002005338668823242 0.07349109649658203 0.0\n"
     ]
    },
    {
     "name": "stderr",
     "output_type": "stream",
     "text": [
      "c:\\Users\\Alvaro\\anaconda3\\envs\\dwave\\lib\\site-packages\\dwave\\samplers\\sa\\sampler.py:524: UserWarning: All bqm biases are zero (all energies are zero), this is likely a value error. Temperature range is set arbitrarily to [0.1,1]. Metropolis-Hastings update is non-ergodic.\n",
      "  warnings.warn(warn_msg)\n"
     ]
    },
    {
     "name": "stdout",
     "output_type": "stream",
     "text": [
      "4 variable(s): 0.000997781753540039 0.11153697967529297 0.0\n",
      "5 variable(s): 0.0020024776458740234 0.15599465370178223 0.0\n",
      "6 variable(s): 0.0010037422180175781 0.21086740493774414 0.0\n",
      "7 variable(s): 0.0019876956939697266 0.27260351181030273 0.0\n",
      "8 variable(s): 0.0010058879852294922 0.34403204917907715 0.0\n",
      "9 variable(s): 0.0025246143341064453 0.42103147506713867 0.0009989738464355469\n",
      "10 variable(s): 0.0010097026824951172 0.5134532451629639 0.0009982585906982422\n",
      "11 variable(s): 0.002521991729736328 0.5980560779571533 0.003477334976196289\n",
      "12 variable(s): 0.0009984970092773438 0.7268562316894531 0.006544828414916992\n",
      "13 variable(s): 0.0009891986846923828 0.8291397094726562 0.012995481491088867\n",
      "14 variable(s): 0.0010013580322265625 0.9405455589294434 0.02661442756652832\n",
      "15 variable(s): 0.0010061264038085938 1.0709583759307861 0.05045962333679199\n",
      "16 variable(s): 0.0029942989349365234 1.2125577926635742 0.12145781517028809\n",
      "17 variable(s): 0.002018451690673828 1.3570685386657715 0.2650127410888672\n",
      "18 variable(s): 0.0025148391723632812 1.5155668258666992 0.5599260330200195\n",
      "19 variable(s): 0.001992940902709961 1.6404027938842773 1.1956605911254883\n",
      "20 variable(s): 0.0030069351196289062 1.9182875156402588 2.5266754627227783\n",
      "21 variable(s): 0.0025119781494140625 1.9980251789093018 5.43595552444458\n",
      "22 variable(s): 0.0029997825622558594 2.2077906131744385 11.235447883605957\n",
      "23 variable(s): 0.0019996166229248047 2.4001212120056152 17.26112389564514\n",
      "24 variable(s): 0.002984762191772461 2.6405253410339355 50.928765535354614\n"
     ]
    }
   ],
   "source": [
    "cases = [\n",
    "    {\n",
    "        'variables': num_variables + 1,\n",
    "        'bqm': dimod.BQM(\n",
    "            qubogen.qubo_number_partition(\n",
    "                numpy.random.randint(1, 10, num_variables + 1)\n",
    "            ),\n",
    "            'BINARY'\n",
    "        )\n",
    "    } for num_variables in range(24)\n",
    "]\n",
    "\n",
    "print('Runtimes with different solvers:')\n",
    "print('   1. neal.SimulatedAnnealingSampler')\n",
    "print('   2. dimod.SimulatedAnnealingSampler')\n",
    "print('   3. dimod.ExactSolver')\n",
    "\n",
    "for case in cases:\n",
    "\n",
    "    start_time = time.time()\n",
    "    sampler.sample(case['bqm'])\n",
    "    time_nealsas = time.time() - start_time\n",
    "\n",
    "    start_time = time.time()\n",
    "    dimod.SimulatedAnnealingSampler().sample(case['bqm'])\n",
    "    time_dimodsas = time.time() - start_time\n",
    "\n",
    "    start_time = time.time()\n",
    "    dimod.ExactSolver().sample(case['bqm'])\n",
    "    time_dimodes = time.time() - start_time\n",
    "    \n",
    "    print('{} variable(s): {} {} {}'.format(case['variables'], time_nealsas, time_dimodsas, time_dimodes))"
   ]
  }
 ],
 "metadata": {
  "kernelspec": {
   "display_name": "Python 3 (ipykernel)",
   "language": "python",
   "name": "python3"
  },
  "language_info": {
   "codemirror_mode": {
    "name": "ipython",
    "version": 3
   },
   "file_extension": ".py",
   "mimetype": "text/x-python",
   "name": "python",
   "nbconvert_exporter": "python",
   "pygments_lexer": "ipython3",
   "version": "3.9.19"
  }
 },
 "nbformat": 4,
 "nbformat_minor": 4
}
