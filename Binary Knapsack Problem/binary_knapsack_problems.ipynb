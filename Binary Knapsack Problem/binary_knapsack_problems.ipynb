{
 "cells": [
  {
   "cell_type": "markdown",
   "id": "4149d038",
   "metadata": {},
   "source": [
    "<a id=\"top\"></a>\n",
    "#### QCT. Practices with Adiabatic Quantum Computing\n",
    "\n",
    "# Binary Knapsack Problems\n",
    "\n",
    "#### Lecturers:\n",
    "- Rafael Martín-Cuevas Redondo, rafamartinc@pm.me\n",
    "\n",
    "***\n",
    "\n",
    "In this notebook, we will explore how to implement a sample Binary Knapsack Problem, and find its solution using the solvers provided by D-Wave Systems.\n",
    "\n",
    "### Table of Contents\n",
    "\n",
    "1. [Shaping the QUBO Model](#qubo_model)\n",
    "2. [Finding the solution with D-Wave's solvers](#solution_dwave)\n",
    "\n",
    "***\n",
    "\n",
    "Please run the following block to import the libraries that will be required during the execution of this notebook. If your system lacks any of the libraries mentioned, use ```pip install -r requirements.txt``` in a command line, within this notebook's folder, to ensure that all required libraries are installed."
   ]
  },
  {
   "cell_type": "code",
   "execution_count": 1,
   "id": "d05a8039",
   "metadata": {},
   "outputs": [],
   "source": [
    "from sympy import Symbol, Integer, Pow, symbols, expand\n",
    "from matplotlib import pyplot\n",
    "import numpy\n",
    "\n",
    "import neal"
   ]
  },
  {
   "cell_type": "markdown",
   "id": "97172a89",
   "metadata": {},
   "source": [
    "[Back to the top](#top)\n",
    "\n",
    "***\n",
    "<a id=\"qubo_model\"></a>\n",
    "\n",
    "## 1. Shaping the QUBO Model\n",
    "\n",
    "We will start by modeling the Hamiltonian described during the lecture, with a total of seven assets in which we can invest -each one represented by a binary variable that will indicate whether we should invest in that asset or not- and four slack variables that will help us account for solutions that may not need to reach the maximum budget.\n",
    "\n",
    "During this notebook, we will use the library SymPy for symbolic computation. It is not a Quantum Computing-specific library, and is less ideal than other libraries that are used through other notebooks, but can be used for these purposes as follows."
   ]
  },
  {
   "cell_type": "code",
   "execution_count": 2,
   "id": "3cb7f959",
   "metadata": {},
   "outputs": [
    {
     "name": "stdout",
     "output_type": "stream",
     "text": [
      "-12*x_0 - 15*x_1 - 8*x_2 - 36*x_3 - 20*x_4 - 21*x_5 - 30*x_6 + 15*(-s_0 - 2*s_1 - 4*s_2 - 3*s_3 - x_0 - 3*x_1 - 2*x_2 - 6*x_3 - 5*x_4 - 3*x_5 - 2*x_6 + 10)**2\n"
     ]
    }
   ],
   "source": [
    "num_investments = 7\n",
    "num_slack_variables = 4\n",
    "alpha = 15\n",
    "max_weight = 10000000\n",
    "\n",
    "x = symbols('x_0:%d' % num_investments)      # Define x_0 through x_6.\n",
    "s = symbols('s_0:%d' % num_slack_variables)  # Define s_0 through s_3.\n",
    "all_binary_variables = x + s                 # Used to check binary variables.\n",
    "\n",
    "profits = [120000, 150000, 80000, 360000, 200000, 210000, 300000]\n",
    "weights = [1000000, 3000000, 2000000, 6000000, 5000000, 3000000, 2000000]\n",
    "profits_scale_factor = 10000\n",
    "weights_scale_factor = 1000000\n",
    "\n",
    "H = - sum([\n",
    "    profits[i] * x[i] / profits_scale_factor for i in range(num_investments)\n",
    "]) + alpha * (\n",
    "    int(max_weight / weights_scale_factor)\n",
    "    - sum([weights[i] * x[i] / weights_scale_factor for i in range(num_investments)])\n",
    "    - s[0] - 2*s[1] - 4*s[2] - 3*s[3]\n",
    ")**2\n",
    "\n",
    "print(H)"
   ]
  },
  {
   "cell_type": "markdown",
   "id": "f965bde5",
   "metadata": {},
   "source": [
    "We observe that SymPy does not make any modifications in our Hamiltonian by default.\n",
    "\n",
    "We need to express this Hamiltonian as a standard QUBO model -made up of both clear linear and quadratic terms over binary variables- that can be recognized by the solvers, i.e. as a Python dictionary where each key is an immutable tuple that contains the name of the two binary variables associated to that term, and where the associated value is the coefficient itself.\n",
    "\n",
    "We need to expand the Hamiltonian first, so that the coefficient associated to each term can be easily identified, to then convert it to a dictionary. SymPy can be used to perform this calculation automatically, offering an improvement over previous exercises in which we did the calculations by hand."
   ]
  },
  {
   "cell_type": "code",
   "execution_count": 3,
   "id": "f814a581",
   "metadata": {},
   "outputs": [
    {
     "name": "stdout",
     "output_type": "stream",
     "text": [
      "15*s_0**2 + 60*s_0*s_1 + 120*s_0*s_2 + 90*s_0*s_3 + 30*s_0*x_0 + 90*s_0*x_1 + 60*s_0*x_2 + 180*s_0*x_3 + 150*s_0*x_4 + 90*s_0*x_5 + 60*s_0*x_6 - 300*s_0 + 60*s_1**2 + 240*s_1*s_2 + 180*s_1*s_3 + 60*s_1*x_0 + 180*s_1*x_1 + 120*s_1*x_2 + 360*s_1*x_3 + 300*s_1*x_4 + 180*s_1*x_5 + 120*s_1*x_6 - 600*s_1 + 240*s_2**2 + 360*s_2*s_3 + 120*s_2*x_0 + 360*s_2*x_1 + 240*s_2*x_2 + 720*s_2*x_3 + 600*s_2*x_4 + 360*s_2*x_5 + 240*s_2*x_6 - 1200*s_2 + 135*s_3**2 + 90*s_3*x_0 + 270*s_3*x_1 + 180*s_3*x_2 + 540*s_3*x_3 + 450*s_3*x_4 + 270*s_3*x_5 + 180*s_3*x_6 - 900*s_3 + 15*x_0**2 + 90*x_0*x_1 + 60*x_0*x_2 + 180*x_0*x_3 + 150*x_0*x_4 + 90*x_0*x_5 + 60*x_0*x_6 - 312*x_0 + 135*x_1**2 + 180*x_1*x_2 + 540*x_1*x_3 + 450*x_1*x_4 + 270*x_1*x_5 + 180*x_1*x_6 - 915*x_1 + 60*x_2**2 + 360*x_2*x_3 + 300*x_2*x_4 + 180*x_2*x_5 + 120*x_2*x_6 - 608*x_2 + 540*x_3**2 + 900*x_3*x_4 + 540*x_3*x_5 + 360*x_3*x_6 - 1836*x_3 + 375*x_4**2 + 450*x_4*x_5 + 300*x_4*x_6 - 1520*x_4 + 135*x_5**2 + 180*x_5*x_6 - 921*x_5 + 60*x_6**2 - 630*x_6 + 1500\n"
     ]
    }
   ],
   "source": [
    "H = expand(H)\n",
    "print(H)"
   ]
  },
  {
   "cell_type": "markdown",
   "id": "b23691c9",
   "metadata": {},
   "source": [
    "The following block of code iterates through the terms contained in this mathematical expression, and converts them to the data structure we are looking for.\n",
    "\n",
    "The full polynomial is made up of several monomials put together through additions or substractions. Each one of the individual monomials is made up of a product containing one or several constant coefficients or binary variables. Those monomials with just one variable are linear terms -even those that contain the same binary variable squared-, and the ones with two variables are the quadratic terms."
   ]
  },
  {
   "cell_type": "code",
   "execution_count": 4,
   "id": "950220e5",
   "metadata": {},
   "outputs": [
    {
     "name": "stdout",
     "output_type": "stream",
     "text": [
      "{('x_3', 'x_3'): -1296.0, ('x_4', 'x_4'): -1145.0, ('s_2', 's_2'): -960.0, ('x_5', 'x_5'): -786.0, ('x_1', 'x_1'): -780.0, ('s_3', 's_3'): -765.0, ('x_6', 'x_6'): -570.0, ('x_2', 'x_2'): -548.0, ('s_1', 's_1'): -540.0, ('x_0', 'x_0'): -297.0, ('s_0', 's_0'): -285.0, ('s_0', 'x_0'): 30.0, ('s_0', 's_1'): 60.0, ('s_0', 'x_2'): 60.0, ('s_0', 'x_6'): 60.0, ('s_1', 'x_0'): 60.0, ('x_0', 'x_2'): 60.0, ('x_0', 'x_6'): 60.0, ('s_0', 's_3'): 90.0, ('s_0', 'x_1'): 90.0, ('s_0', 'x_5'): 90.0, ('s_3', 'x_0'): 90.0, ('x_0', 'x_1'): 90.0, ('x_0', 'x_5'): 90.0, ('s_0', 's_2'): 120.0, ('s_1', 'x_2'): 120.0, ('s_1', 'x_6'): 120.0, ('s_2', 'x_0'): 120.0, ('x_2', 'x_6'): 120.0, ('s_0', 'x_4'): 150.0, ('x_0', 'x_4'): 150.0, ('s_0', 'x_3'): 180.0, ('s_1', 's_3'): 180.0, ('s_1', 'x_1'): 180.0, ('s_1', 'x_5'): 180.0, ('s_3', 'x_2'): 180.0, ('s_3', 'x_6'): 180.0, ('x_0', 'x_3'): 180.0, ('x_1', 'x_2'): 180.0, ('x_1', 'x_6'): 180.0, ('x_2', 'x_5'): 180.0, ('x_5', 'x_6'): 180.0, ('s_1', 's_2'): 240.0, ('s_2', 'x_2'): 240.0, ('s_2', 'x_6'): 240.0, ('s_3', 'x_1'): 270.0, ('s_3', 'x_5'): 270.0, ('x_1', 'x_5'): 270.0, ('s_1', 'x_4'): 300.0, ('x_2', 'x_4'): 300.0, ('x_4', 'x_6'): 300.0, ('s_1', 'x_3'): 360.0, ('s_2', 's_3'): 360.0, ('s_2', 'x_1'): 360.0, ('s_2', 'x_5'): 360.0, ('x_2', 'x_3'): 360.0, ('x_3', 'x_6'): 360.0, ('s_3', 'x_4'): 450.0, ('x_1', 'x_4'): 450.0, ('x_4', 'x_5'): 450.0, ('s_3', 'x_3'): 540.0, ('x_1', 'x_3'): 540.0, ('x_3', 'x_5'): 540.0, ('s_2', 'x_4'): 600.0, ('s_2', 'x_3'): 720.0, ('x_3', 'x_4'): 900.0}\n"
     ]
    }
   ],
   "source": [
    "qubo = {}\n",
    "\n",
    "for monomial in H.args:\n",
    "    \n",
    "    coefficient = None\n",
    "    \n",
    "    # The final dictionary will use tuples as keys, as Python dictionaries\n",
    "    # require the keys to be immutable, but we will use lists until we have\n",
    "    # clarified the final contents of each key.\n",
    "    key = []\n",
    "    \n",
    "    for variable in monomial.args:\n",
    "        \n",
    "        # Linear terms - Simple binary variables.\n",
    "        if isinstance(variable, Symbol) and variable in all_binary_variables:\n",
    "            key.append(str(variable))\n",
    "            \n",
    "        # Squared binary variables. In QUBO's, x_i^2 == x_i.\n",
    "        elif isinstance(variable, Pow) \\\n",
    "                and variable.args[0] in all_binary_variables:\n",
    "            key.append(str(variable.args[0]))\n",
    "            \n",
    "        # Constant coefficients.\n",
    "        elif isinstance(variable, Integer):\n",
    "            coefficient = variable\n",
    "    \n",
    "    if len(key) == 1:\n",
    "        key = key + key\n",
    "    key = tuple(key)\n",
    "    \n",
    "    if len(key) == 2:\n",
    "        if key not in qubo:\n",
    "            qubo[key] = float(coefficient)\n",
    "        else:\n",
    "            qubo[key] += float(coefficient)\n",
    "            \n",
    "print(qubo)"
   ]
  },
  {
   "cell_type": "markdown",
   "id": "e171e71c",
   "metadata": {},
   "source": [
    "We have now expressed our QUBO model as a data structure that can be recognized by our solvers.\n",
    "\n",
    "[Back to the top](#top)\n",
    "\n",
    "***\n",
    "<a id=\"solution_dwave\"></a>\n",
    "\n",
    "## 2. Finding the solution with D-Wave's solvers\n",
    "\n",
    "Finally, we can use the solvers provided by D-Wave to find the solution to this problem, as follows. We use the code to aggregate the solutions provided by the quantum annealer, and identify the variables that are set to 1 in our solution, indicating which assets should be picked as part of our portfolio. Remember that the slack variables hold no meaning, beyond the purpose of providing the quantum annealer with a way to pick solutions that do not require the total budget, so in this example we can just ignore them from our final solution.\n",
    "\n",
    "In this example, and given the small size that this problem has, we can just use the local simulator, but please feel free to expand this example for larger datasets and try a cloud solver or a quantum annealer if you want to do so."
   ]
  },
  {
   "cell_type": "code",
   "execution_count": 5,
   "id": "61839aca",
   "metadata": {},
   "outputs": [
    {
     "name": "stdout",
     "output_type": "stream",
     "text": [
      " 471/5000 occurrences: ['s_0', 'x_0', 'x_3', 'x_6']\n",
      " 708/5000 occurrences: ['s_0', 'x_0', 'x_1', 'x_5', 'x_6']\n",
      " 248/5000 occurrences: ['x_1', 'x_2', 'x_5', 'x_6']\n",
      " 176/5000 occurrences: ['x_2', 'x_3', 'x_6']\n",
      " 181/5000 occurrences: ['x_3', 'x_5', 'x_6']\n",
      " 321/5000 occurrences: ['x_4', 'x_5', 'x_6']\n",
      " 303/5000 occurrences: ['s_1', 'x_0', 'x_2', 'x_5', 'x_6']\n",
      "  61/5000 occurrences: ['x_0', 'x_2', 'x_3', 'x_6']\n",
      "  80/5000 occurrences: ['x_0', 'x_1', 'x_2', 'x_5', 'x_6']\n",
      " 331/5000 occurrences: ['x_0', 'x_2', 'x_4', 'x_6']\n",
      "  96/5000 occurrences: ['x_0', 'x_3', 'x_5']\n",
      "  91/5000 occurrences: ['x_0', 'x_4', 'x_5', 'x_6']\n",
      "  67/5000 occurrences: ['x_1', 'x_3', 'x_6']\n",
      "  11/5000 occurrences: ['s_1', 'x_1', 'x_5', 'x_6']\n",
      "   4/5000 occurrences: ['s_1', 'x_3', 'x_6']\n",
      " 157/5000 occurrences: ['s_1', 'x_0', 'x_1', 'x_2', 'x_6']\n",
      " 175/5000 occurrences: ['x_1', 'x_4', 'x_6']\n",
      "   4/5000 occurrences: ['x_0', 'x_3', 'x_6']\n",
      "   4/5000 occurrences: ['s_1', 'x_0', 'x_3', 'x_6']\n",
      " 243/5000 occurrences: ['s_0', 's_3', 'x_0', 'x_5', 'x_6']\n",
      " 180/5000 occurrences: ['s_2', 'x_0', 'x_5', 'x_6']\n",
      "   4/5000 occurrences: ['x_0', 'x_1', 'x_5', 'x_6']\n",
      "   1/5000 occurrences: ['s_1', 'x_0', 'x_1', 'x_5', 'x_6']\n",
      "  40/5000 occurrences: ['x_0', 'x_1', 'x_3']\n",
      "  67/5000 occurrences: ['s_1', 'x_0', 'x_4', 'x_6']\n",
      "  67/5000 occurrences: ['x_0', 'x_1', 'x_4', 'x_6']\n",
      "   9/5000 occurrences: ['s_0', 's_1', 'x_2', 'x_5', 'x_6']\n",
      "   1/5000 occurrences: ['s_0', 'x_2', 'x_3', 'x_6']\n",
      "   1/5000 occurrences: ['s_0', 'x_1', 'x_2', 'x_5', 'x_6']\n",
      "  73/5000 occurrences: ['s_3', 'x_2', 'x_5', 'x_6']\n",
      "   4/5000 occurrences: ['s_0', 'x_2', 'x_4', 'x_6']\n",
      " 113/5000 occurrences: ['s_2', 'x_0', 'x_1', 'x_6']\n",
      " 136/5000 occurrences: ['s_0', 's_3', 'x_0', 'x_1', 'x_6']\n",
      "   1/5000 occurrences: ['s_0', 's_1', 'x_0', 'x_2', 'x_5', 'x_6']\n",
      "   1/5000 occurrences: ['s_0', 'x_0', 'x_2', 'x_5', 'x_6']\n",
      "   5/5000 occurrences: ['s_0', 'x_0', 'x_2', 'x_3']\n",
      "   5/5000 occurrences: ['s_0', 'x_0', 'x_1', 'x_2', 'x_5']\n",
      "  23/5000 occurrences: ['s_3', 'x_0', 'x_2', 'x_5', 'x_6']\n",
      "   1/5000 occurrences: ['s_0', 'x_4', 'x_5', 'x_6']\n",
      "   2/5000 occurrences: ['s_0', 'x_0', 'x_2', 'x_4', 'x_6']\n",
      "   3/5000 occurrences: ['s_0', 'x_0', 'x_3', 'x_5']\n",
      "   2/5000 occurrences: ['s_0', 's_1', 'x_1', 'x_2', 'x_6']\n",
      "   5/5000 occurrences: ['s_0', 'x_0', 'x_4', 'x_5']\n",
      "  42/5000 occurrences: ['s_3', 'x_1', 'x_2', 'x_6']\n",
      "   7/5000 occurrences: ['s_1', 's_3', 'x_5', 'x_6']\n",
      "   2/5000 occurrences: ['s_0', 's_2', 'x_5', 'x_6']\n",
      "  32/5000 occurrences: ['s_3', 'x_1', 'x_5', 'x_6']\n",
      "  11/5000 occurrences: ['s_3', 'x_3', 'x_6']\n",
      "   1/5000 occurrences: ['s_0', 'x_1', 'x_3']\n",
      "  46/5000 occurrences: ['s_1', 's_3', 'x_0', 'x_2', 'x_6']\n",
      "  56/5000 occurrences: ['s_3', 'x_4', 'x_6']\n",
      "   3/5000 occurrences: ['s_0', 'x_1', 'x_4', 'x_6']\n",
      "  60/5000 occurrences: ['s_0', 's_2', 'x_0', 'x_2', 'x_6']\n",
      "  18/5000 occurrences: ['s_3', 'x_0', 'x_1', 'x_2', 'x_6']\n",
      "   2/5000 occurrences: ['x_2', 'x_4', 'x_5']\n",
      "   3/5000 occurrences: ['s_3', 'x_0', 'x_5', 'x_6']\n",
      "  13/5000 occurrences: ['s_3', 'x_0', 'x_3']\n",
      "   1/5000 occurrences: ['s_0', 's_1', 'x_0', 'x_3']\n",
      "  35/5000 occurrences: ['s_3', 'x_0', 'x_1', 'x_5']\n",
      "   1/5000 occurrences: ['s_0', 's_1', 'x_0', 'x_1', 'x_5']\n",
      "   1/5000 occurrences: ['s_1', 's_3', 'x_0', 'x_5', 'x_6']\n",
      "   2/5000 occurrences: ['s_0', 's_2', 'x_0', 'x_5', 'x_6']\n",
      "   5/5000 occurrences: ['s_0', 'x_0', 'x_1', 'x_4']\n",
      "  25/5000 occurrences: ['s_3', 'x_0', 'x_4', 'x_6']\n",
      "   5/5000 occurrences: ['s_1', 's_3', 'x_1', 'x_6']\n",
      "   1/5000 occurrences: ['s_0', 's_3', 'x_2', 'x_5', 'x_6']\n",
      "   4/5000 occurrences: ['x_1', 'x_2', 'x_4']\n",
      "   1/5000 occurrences: ['s_3', 'x_0', 'x_1', 'x_6']\n",
      "   1/5000 occurrences: ['s_1', 's_3', 'x_0', 'x_1', 'x_6']\n",
      "   7/5000 occurrences: ['s_0', 's_1', 's_2', 'x_0', 'x_6']\n",
      "  36/5000 occurrences: ['s_2', 's_3', 'x_0', 'x_6']\n",
      "  23/5000 occurrences: ['x_3', 'x_4']\n",
      "   7/5000 occurrences: ['x_1', 'x_4', 'x_5']\n",
      "   6/5000 occurrences: ['s_2', 'x_0', 'x_2', 'x_5']\n",
      "   4/5000 occurrences: ['s_0', 's_3', 'x_0', 'x_2', 'x_5']\n",
      "   1/5000 occurrences: ['x_0', 'x_1', 'x_2', 'x_4']\n",
      "   1/5000 occurrences: ['s_1', 'x_0', 'x_2', 'x_4']\n",
      "   1/5000 occurrences: ['s_2', 'x_1', 'x_2', 'x_6']\n",
      "   1/5000 occurrences: ['s_0', 's_1', 's_3', 'x_5', 'x_6']\n",
      "   4/5000 occurrences: ['s_2', 'x_3']\n",
      "  11/5000 occurrences: ['s_2', 'x_1', 'x_5']\n",
      "   1/5000 occurrences: ['s_1', 's_2', 'x_0', 'x_2', 'x_6']\n",
      "   1/5000 occurrences: ['s_0', 's_1', 's_3', 'x_0', 'x_2', 'x_6']\n",
      "   8/5000 occurrences: ['s_2', 'x_4', 'x_6']\n",
      "   2/5000 occurrences: ['s_0', 's_3', 'x_0', 'x_1', 'x_2']\n",
      "   7/5000 occurrences: ['s_2', 'x_0', 'x_1', 'x_2']\n",
      "   1/5000 occurrences: ['s_1', 's_2', 'x_0', 'x_5']\n",
      "   2/5000 occurrences: ['s_2', 'x_0', 'x_3']\n",
      "   1/5000 occurrences: ['s_2', 'x_0', 'x_1', 'x_5']\n",
      "   1/5000 occurrences: ['s_0', 's_3', 'x_0', 'x_4']\n",
      "   7/5000 occurrences: ['s_2', 'x_0', 'x_4']\n",
      "   1/5000 occurrences: ['s_0', 's_2', 's_3', 'x_6']\n",
      "   1/5000 occurrences: ['s_3', 'x_2', 'x_4']\n",
      "   1/5000 occurrences: ['s_0', 's_1', 's_3', 'x_0', 'x_1']\n",
      "   4/5000 occurrences: ['s_3', 'x_4', 'x_5']\n",
      "   5/5000 occurrences: ['s_2', 's_3', 'x_5']\n",
      "   1/5000 occurrences: ['s_2', 's_3', 'x_1']\n"
     ]
    }
   ],
   "source": [
    "sampler = neal.SimulatedAnnealingSampler()\n",
    "num_reads = 5000\n",
    "\n",
    "response = sampler.sample_qubo(qubo, num_reads=num_reads)\n",
    "response = response.aggregate()\n",
    "\n",
    "for values, _, num_occurrences in response.data():\n",
    "    variables = [key for key in values if values[key] != 0]\n",
    "    print('{:4.0f}/{} occurrences: {}'.format(\n",
    "        num_occurrences, num_reads, variables\n",
    "    ))"
   ]
  },
  {
   "cell_type": "markdown",
   "id": "f055c983",
   "metadata": {},
   "source": [
    "Through the following block of code, we will look for the best solution from the ones provided by the solver, to get: (1) the assurance that the budget constraint is met, (2) a visual representation of the final portfolio and (3) its expected return."
   ]
  },
  {
   "cell_type": "code",
   "execution_count": 6,
   "id": "e3301bef",
   "metadata": {},
   "outputs": [
    {
     "name": "stdout",
     "output_type": "stream",
     "text": [
      "Best solution (14.2%): ['x_0', 'x_1', 'x_5', 'x_6']\n"
     ]
    }
   ],
   "source": [
    "# Get best solution.\n",
    "\n",
    "best_solution = None\n",
    "best_solution_occurrences = -1\n",
    "\n",
    "for values, _, num_occurrences in response.data():\n",
    "    if num_occurrences > best_solution_occurrences:\n",
    "        best_solution = values\n",
    "        best_solution_occurrences = num_occurrences\n",
    "\n",
    "best_solution_variables = [\n",
    "    key for key in best_solution\n",
    "    if best_solution[key] != 0 and key[:2] == 'x_'\n",
    "]\n",
    "\n",
    "print('Best solution ({:0.1f}%): {}'.format(\n",
    "    100 * best_solution_occurrences / num_reads,\n",
    "    best_solution_variables\n",
    "))"
   ]
  },
  {
   "cell_type": "code",
   "execution_count": 7,
   "id": "46477b19",
   "metadata": {},
   "outputs": [
    {
     "name": "stdout",
     "output_type": "stream",
     "text": [
      "\n",
      "Total investment: 9000000 < 10000000 - OK!\n",
      "   x_0: 1000000\n",
      "   x_1: 3000000\n",
      "   x_5: 3000000\n",
      "   x_6: 2000000\n",
      "\n",
      "   Cash: 1000000\n"
     ]
    }
   ],
   "source": [
    "# Check weight constraint.\n",
    "\n",
    "best_solution_weights = [\n",
    "    weights[int(key[2:])] for key in best_solution_variables\n",
    "]\n",
    "total_weight = sum(best_solution_weights)\n",
    "\n",
    "print('\\nTotal investment: {} < {} - {}'.format(\n",
    "    total_weight,\n",
    "    max_weight,\n",
    "    'OK!' if total_weight < max_weight else 'ERROR'\n",
    "))\n",
    "for key in best_solution_variables:\n",
    "    asset_id = int(key[2:])\n",
    "    print('   {}: {}'.format(key, weights[asset_id]))\n",
    "\n",
    "print('\\n   Cash: {}'.format(max_weight - total_weight))"
   ]
  },
  {
   "cell_type": "code",
   "execution_count": 8,
   "id": "74c4a6b4",
   "metadata": {},
   "outputs": [
    {
     "name": "stdout",
     "output_type": "stream",
     "text": [
      "\n",
      "Total expected profit: 780000 (8.7%)\n",
      "   x_0: 120000 (12.0%)\n",
      "   x_1: 150000 (5.0%)\n",
      "   x_5: 210000 (7.0%)\n",
      "   x_6: 300000 (15.0%)\n"
     ]
    }
   ],
   "source": [
    "# Calculate expected return and rentability.\n",
    "\n",
    "best_solution_profits = [\n",
    "    profits[int(key[2:])] for key in best_solution_variables\n",
    "]\n",
    "total_profit = sum(best_solution_profits)\n",
    "\n",
    "print('\\nTotal expected profit: {} ({:0.1f}%)'.format(total_profit, 100 * total_profit / total_weight))\n",
    "for key in best_solution_variables:\n",
    "    asset_id = int(key[2:])\n",
    "    print('   {}: {} ({:0.1f}%)'.format(\n",
    "        key,\n",
    "        profits[asset_id],\n",
    "        100 * profits[asset_id] / weights[asset_id]\n",
    "    ))"
   ]
  },
  {
   "cell_type": "code",
   "execution_count": 9,
   "id": "e8fdd674",
   "metadata": {},
   "outputs": [
    {
     "data": {
      "image/png": "[encoded data removed]",
      "text/plain": [
       "<Figure size 640x480 with 1 Axes>"
      ]
     },
     "metadata": {},
     "output_type": "display_data"
    }
   ],
   "source": [
    "# Visualize pie chart.\n",
    "\n",
    "y = numpy.array(best_solution_weights + [max_weight - total_weight])\n",
    "pyplot.pie(\n",
    "    y, labels=best_solution_variables + ['Cash'],\n",
    "    colors=['#003f5c','#58508d','#bc5090','#ff6361','#ffa600'], autopct='%1.1f%%'\n",
    ")\n",
    "pyplot.gcf().gca().add_artist(pyplot.Circle((0,0), 0.70, fc='white'))\n",
    "pyplot.show()"
   ]
  },
  {
   "cell_type": "markdown",
   "id": "b7baaa35",
   "metadata": {},
   "source": [
    "[Back to the top](#top)"
   ]
  }
 ],
 "metadata": {
  "kernelspec": {
   "display_name": "Python 3 (ipykernel)",
   "language": "python",
   "name": "python3"
  },
  "language_info": {
   "codemirror_mode": {
    "name": "ipython",
    "version": 3
   },
   "file_extension": ".py",
   "mimetype": "text/x-python",
   "name": "python",
   "nbconvert_exporter": "python",
   "pygments_lexer": "ipython3",
   "version": "3.9.19"
  }
 },
 "nbformat": 4,
 "nbformat_minor": 5
}
